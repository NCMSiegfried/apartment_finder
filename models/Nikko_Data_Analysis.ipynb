{
 "cells": [
  {
   "cell_type": "code",
   "execution_count": 98,
   "id": "f4739388",
   "metadata": {},
   "outputs": [],
   "source": [
    "import pandas as pd\n",
    "import matplotlib.pyplot as plt\n",
    "import seaborn as sns\n",
    "from sklearn.model_selection import train_test_split\n",
    "from sklearn.linear_model import LinearRegression\n",
    "import geopandas as gpd \n",
    "from shapely.geometry import Point\n",
    "import math\n",
    "import numpy as np\n",
    "import os\n",
    "import os.path\n",
    "import shutil\n",
    "from sklearn.metrics import r2_score, mean_squared_error, mean_absolute_error\n",
    "import statsmodels.api as sm\n"
   ]
  },
  {
   "cell_type": "code",
   "execution_count": 63,
   "id": "aac1aadd",
   "metadata": {},
   "outputs": [],
   "source": [
    "aus = pd.read_csv('../data/austin_tx/austin_tx_info.csv')\n",
    "aus1 = pd.read_csv('../data/austin_tx/austin_tx_units.csv')"
   ]
  },
  {
   "cell_type": "code",
   "execution_count": 64,
   "id": "bc57ed82",
   "metadata": {},
   "outputs": [
    {
     "data": {
      "text/html": [
       "<div>\n",
       "<style scoped>\n",
       "    .dataframe tbody tr th:only-of-type {\n",
       "        vertical-align: middle;\n",
       "    }\n",
       "\n",
       "    .dataframe tbody tr th {\n",
       "        vertical-align: top;\n",
       "    }\n",
       "\n",
       "    .dataframe thead th {\n",
       "        text-align: right;\n",
       "    }\n",
       "</style>\n",
       "<table border=\"1\" class=\"dataframe\">\n",
       "  <thead>\n",
       "    <tr style=\"text-align: right;\">\n",
       "      <th></th>\n",
       "      <th>Address</th>\n",
       "      <th>Amenities</th>\n",
       "      <th>Neighborhood</th>\n",
       "      <th>NeighborhoodLink</th>\n",
       "      <th>PropertyId</th>\n",
       "      <th>PropertyName</th>\n",
       "      <th>PropertyUrl</th>\n",
       "      <th>ReviewScore</th>\n",
       "      <th>VerifiedListing</th>\n",
       "      <th>is_single_unit</th>\n",
       "    </tr>\n",
       "  </thead>\n",
       "  <tbody>\n",
       "    <tr>\n",
       "      <th>0</th>\n",
       "      <td>8800 N Interstate 35</td>\n",
       "      <td>['Package Service', 'Laundry Facilities', 'Con...</td>\n",
       "      <td>Austin</td>\n",
       "      <td>https://www.apartments.com/austin-tx/</td>\n",
       "      <td>vsqwbgg</td>\n",
       "      <td>Starburst Apartments</td>\n",
       "      <td>https://www.apartments.com/starburst-apartment...</td>\n",
       "      <td>3.9</td>\n",
       "      <td>verified</td>\n",
       "      <td>0</td>\n",
       "    </tr>\n",
       "    <tr>\n",
       "      <th>1</th>\n",
       "      <td>8312 N Interstate 35</td>\n",
       "      <td>['Renovated Unit', 'Laundry Facilities', 'Main...</td>\n",
       "      <td>Georgian Acres</td>\n",
       "      <td>https://www.apartments.com/georgian-acres-aust...</td>\n",
       "      <td>cmlfp5d</td>\n",
       "      <td>Woodland Heights</td>\n",
       "      <td>https://www.apartments.com/woodland-heights-au...</td>\n",
       "      <td>3.6</td>\n",
       "      <td>verified</td>\n",
       "      <td>0</td>\n",
       "    </tr>\n",
       "    <tr>\n",
       "      <th>2</th>\n",
       "      <td>8405 Old Bee Cave Rd</td>\n",
       "      <td>['Hiking Trails', 'patio/balcony', 'Close to M...</td>\n",
       "      <td>West Oak Hill</td>\n",
       "      <td>https://www.apartments.com/west-oak-hill-austi...</td>\n",
       "      <td>lmxceme</td>\n",
       "      <td>Southwest Trails</td>\n",
       "      <td>https://www.apartments.com/southwest-trails-au...</td>\n",
       "      <td>4.0</td>\n",
       "      <td>verified</td>\n",
       "      <td>0</td>\n",
       "    </tr>\n",
       "    <tr>\n",
       "      <th>3</th>\n",
       "      <td>5800 Brodie Ln</td>\n",
       "      <td>['Package Service', 'Washer And Dryer', 'Bike ...</td>\n",
       "      <td>Sunset Valley</td>\n",
       "      <td>https://www.apartments.com/sunset-valley-austi...</td>\n",
       "      <td>e4fs7cn</td>\n",
       "      <td>MAA Sunset Valley</td>\n",
       "      <td>https://www.apartments.com/maa-sunset-valley-a...</td>\n",
       "      <td>4.1</td>\n",
       "      <td>verified</td>\n",
       "      <td>0</td>\n",
       "    </tr>\n",
       "    <tr>\n",
       "      <th>4</th>\n",
       "      <td>2301 S MoPac Expy</td>\n",
       "      <td>['Bike Racks', 'Grilling Area', 'Stainless Ste...</td>\n",
       "      <td>Barton Creek</td>\n",
       "      <td>https://www.apartments.com/barton-creek-austin...</td>\n",
       "      <td>esem3bq</td>\n",
       "      <td>Gables at the Terrace</td>\n",
       "      <td>https://www.apartments.com/gables-at-the-terra...</td>\n",
       "      <td>4.1</td>\n",
       "      <td>verified</td>\n",
       "      <td>0</td>\n",
       "    </tr>\n",
       "  </tbody>\n",
       "</table>\n",
       "</div>"
      ],
      "text/plain": [
       "                Address                                          Amenities  \\\n",
       "0  8800 N Interstate 35  ['Package Service', 'Laundry Facilities', 'Con...   \n",
       "1  8312 N Interstate 35  ['Renovated Unit', 'Laundry Facilities', 'Main...   \n",
       "2  8405 Old Bee Cave Rd  ['Hiking Trails', 'patio/balcony', 'Close to M...   \n",
       "3        5800 Brodie Ln  ['Package Service', 'Washer And Dryer', 'Bike ...   \n",
       "4     2301 S MoPac Expy  ['Bike Racks', 'Grilling Area', 'Stainless Ste...   \n",
       "\n",
       "     Neighborhood                                   NeighborhoodLink  \\\n",
       "0          Austin              https://www.apartments.com/austin-tx/   \n",
       "1  Georgian Acres  https://www.apartments.com/georgian-acres-aust...   \n",
       "2   West Oak Hill  https://www.apartments.com/west-oak-hill-austi...   \n",
       "3   Sunset Valley  https://www.apartments.com/sunset-valley-austi...   \n",
       "4    Barton Creek  https://www.apartments.com/barton-creek-austin...   \n",
       "\n",
       "  PropertyId           PropertyName  \\\n",
       "0    vsqwbgg   Starburst Apartments   \n",
       "1    cmlfp5d       Woodland Heights   \n",
       "2    lmxceme       Southwest Trails   \n",
       "3    e4fs7cn      MAA Sunset Valley   \n",
       "4    esem3bq  Gables at the Terrace   \n",
       "\n",
       "                                         PropertyUrl  ReviewScore  \\\n",
       "0  https://www.apartments.com/starburst-apartment...          3.9   \n",
       "1  https://www.apartments.com/woodland-heights-au...          3.6   \n",
       "2  https://www.apartments.com/southwest-trails-au...          4.0   \n",
       "3  https://www.apartments.com/maa-sunset-valley-a...          4.1   \n",
       "4  https://www.apartments.com/gables-at-the-terra...          4.1   \n",
       "\n",
       "  VerifiedListing  is_single_unit  \n",
       "0        verified               0  \n",
       "1        verified               0  \n",
       "2        verified               0  \n",
       "3        verified               0  \n",
       "4        verified               0  "
      ]
     },
     "execution_count": 64,
     "metadata": {},
     "output_type": "execute_result"
    }
   ],
   "source": [
    "aus.head()"
   ]
  },
  {
   "cell_type": "code",
   "execution_count": 67,
   "id": "1058ef60",
   "metadata": {},
   "outputs": [
    {
     "data": {
      "text/html": [
       "<div>\n",
       "<style scoped>\n",
       "    .dataframe tbody tr th:only-of-type {\n",
       "        vertical-align: middle;\n",
       "    }\n",
       "\n",
       "    .dataframe tbody tr th {\n",
       "        vertical-align: top;\n",
       "    }\n",
       "\n",
       "    .dataframe thead th {\n",
       "        text-align: right;\n",
       "    }\n",
       "</style>\n",
       "<table border=\"1\" class=\"dataframe\">\n",
       "  <thead>\n",
       "    <tr style=\"text-align: right;\">\n",
       "      <th></th>\n",
       "      <th>Baths</th>\n",
       "      <th>Beds</th>\n",
       "      <th>MaxRent</th>\n",
       "      <th>Model</th>\n",
       "      <th>PropertyId</th>\n",
       "      <th>SquareFootage</th>\n",
       "    </tr>\n",
       "  </thead>\n",
       "  <tbody>\n",
       "    <tr>\n",
       "      <th>0</th>\n",
       "      <td>1.0</td>\n",
       "      <td>1</td>\n",
       "      <td>959.0</td>\n",
       "      <td>A -1BR/1BA small</td>\n",
       "      <td>cmlfp5d</td>\n",
       "      <td>536</td>\n",
       "    </tr>\n",
       "    <tr>\n",
       "      <th>1</th>\n",
       "      <td>1.0</td>\n",
       "      <td>1</td>\n",
       "      <td>1159.0</td>\n",
       "      <td>A -1BR/1BA small</td>\n",
       "      <td>cmlfp5d</td>\n",
       "      <td>536</td>\n",
       "    </tr>\n",
       "    <tr>\n",
       "      <th>2</th>\n",
       "      <td>1.0</td>\n",
       "      <td>1</td>\n",
       "      <td>979.0</td>\n",
       "      <td>C- 1BR/1BA</td>\n",
       "      <td>cmlfp5d</td>\n",
       "      <td>660</td>\n",
       "    </tr>\n",
       "    <tr>\n",
       "      <th>3</th>\n",
       "      <td>1.0</td>\n",
       "      <td>1</td>\n",
       "      <td>1259.0</td>\n",
       "      <td>B -1BR/1BA washer / dryer hook ups</td>\n",
       "      <td>cmlfp5d</td>\n",
       "      <td>660</td>\n",
       "    </tr>\n",
       "    <tr>\n",
       "      <th>4</th>\n",
       "      <td>1.0</td>\n",
       "      <td>1</td>\n",
       "      <td>1059.0</td>\n",
       "      <td>B -1BR/1BA washer / dryer hook ups</td>\n",
       "      <td>cmlfp5d</td>\n",
       "      <td>660</td>\n",
       "    </tr>\n",
       "  </tbody>\n",
       "</table>\n",
       "</div>"
      ],
      "text/plain": [
       "   Baths  Beds  MaxRent                               Model PropertyId  \\\n",
       "0    1.0     1    959.0                    A -1BR/1BA small    cmlfp5d   \n",
       "1    1.0     1   1159.0                    A -1BR/1BA small    cmlfp5d   \n",
       "2    1.0     1    979.0                          C- 1BR/1BA    cmlfp5d   \n",
       "3    1.0     1   1259.0  B -1BR/1BA washer / dryer hook ups    cmlfp5d   \n",
       "4    1.0     1   1059.0  B -1BR/1BA washer / dryer hook ups    cmlfp5d   \n",
       "\n",
       "  SquareFootage  \n",
       "0           536  \n",
       "1           536  \n",
       "2           660  \n",
       "3           660  \n",
       "4           660  "
      ]
     },
     "execution_count": 67,
     "metadata": {},
     "output_type": "execute_result"
    }
   ],
   "source": [
    "aus1.head()"
   ]
  },
  {
   "cell_type": "code",
   "execution_count": 73,
   "id": "00d87772",
   "metadata": {},
   "outputs": [
    {
     "data": {
      "text/plain": [
       "Baths            float64\n",
       "Beds               int64\n",
       "MaxRent          float64\n",
       "Model             object\n",
       "PropertyId        object\n",
       "SquareFootage    float64\n",
       "dtype: object"
      ]
     },
     "execution_count": 73,
     "metadata": {},
     "output_type": "execute_result"
    }
   ],
   "source": [
    "aus1.dtypes"
   ]
  },
  {
   "cell_type": "code",
   "execution_count": 68,
   "id": "d77d6846",
   "metadata": {},
   "outputs": [],
   "source": [
    "# convert rent and sq. footage to float type\n",
    "aus1['MaxRent'] = aus1['MaxRent'].astype(float)\n",
    "aus1['SquareFootage'] = aus1['SquareFootage'].astype(str)\n",
    "aus1['SquareFootage'] = aus1['SquareFootage'].str.replace(',','').astype(float)\n"
   ]
  },
  {
   "cell_type": "code",
   "execution_count": 85,
   "id": "9a1a61be",
   "metadata": {},
   "outputs": [],
   "source": [
    "#drop na for desired columns\n",
    "#aus1['MaxRent'] = aus1['MaxRent'].dropna()\n",
    "#aus1['SquareFootage'] = aus1['SquareFootage'].dropna()\n",
    "aus1 = aus1.dropna(subset=['MaxRent'])\n",
    "aus1 = aus1.dropna(subset=['SquareFootage'])\n"
   ]
  },
  {
   "cell_type": "code",
   "execution_count": 132,
   "id": "1c7cf816",
   "metadata": {},
   "outputs": [
    {
     "data": {
      "image/png": "[encoded data removed]",
      "text/plain": [
       "<Figure size 432x288 with 1 Axes>"
      ]
     },
     "metadata": {
      "needs_background": "light"
     },
     "output_type": "display_data"
    }
   ],
   "source": [
    "# check distribution of square footage\n",
    "plt.hist(aus1['SquareFootage'], bins='auto', color='blue', alpha=0.7)\n",
    "plt.title('Distribution of Square Footage')\n",
    "plt.xlabel('Square Footage')\n",
    "plt.ylabel('Frequency')\n",
    "plt.grid(axis='y', alpha=0.75)\n",
    "plt.show()"
   ]
  },
  {
   "cell_type": "code",
   "execution_count": 90,
   "id": "aa86f161",
   "metadata": {},
   "outputs": [
    {
     "data": {
      "text/plain": [
       "Text(0.5, 1.0, 'Rent vs. Square Footage')"
      ]
     },
     "execution_count": 90,
     "metadata": {},
     "output_type": "execute_result"
    },
    {
     "data": {
      "image/png": "[encoded data removed]",
      "text/plain": [
       "<Figure size 432x288 with 1 Axes>"
      ]
     },
     "metadata": {
      "needs_background": "light"
     },
     "output_type": "display_data"
    }
   ],
   "source": [
    "X = aus1[['SquareFootage']].values\n",
    "y = aus1['MaxRent'].values\n",
    "X_train, X_test, y_train, y_test = train_test_split(X, y, test_size=0.2, random_state=42)\n",
    "model = LinearRegression()\n",
    "model.fit(X_train, y_train)\n",
    "y_pred = model.predict(X_test)\n",
    "\n",
    "plt.scatter(aus1['SquareFootage'], aus1['MaxRent'], color='grey')\n",
    "plt.plot(X_test, y_pred, color='red', linewidth=3, label='Predicted Rent')\n",
    "plt.xlabel('Square Footage')\n",
    "plt.ylabel('Max Rent')\n",
    "plt.title('Rent vs. Square Footage')"
   ]
  },
  {
   "cell_type": "code",
   "execution_count": 95,
   "id": "dfc82052",
   "metadata": {},
   "outputs": [
    {
     "name": "stdout",
     "output_type": "stream",
     "text": [
      "R-squared value: 0.2543895895639864\n",
      "Mean Squared Error (MSE): 1094455.5672714536\n",
      "Mean Absolute Error (MAE): 693.6991688347227\n"
     ]
    }
   ],
   "source": [
    "# Calculate R-squared value\n",
    "r2_value = r2_score(y_test, y_pred)\n",
    "print(\"R-squared value:\", r2_value)\n",
    "# Calculate Mean Squared Error (MSE)\n",
    "mse = mean_squared_error(y_test, y_pred)\n",
    "\n",
    "# Calculate Mean Absolute Error (MAE)\n",
    "mae = mean_absolute_error(y_test, y_pred)\n",
    "\n",
    "print(\"Mean Squared Error (MSE):\", mse)\n",
    "print(\"Mean Absolute Error (MAE):\", mae)"
   ]
  },
  {
   "cell_type": "code",
   "execution_count": 105,
   "id": "f502bb4e",
   "metadata": {},
   "outputs": [
    {
     "name": "stderr",
     "output_type": "stream",
     "text": [
      "/Users/nikkosiegfried/opt/anaconda3/lib/python3.9/site-packages/sklearn/base.py:443: UserWarning: X has feature names, but LinearRegression was fitted without feature names\n",
      "  warnings.warn(\n"
     ]
    }
   ],
   "source": [
    "#calculate standardized residual for outliers\n",
    "aus1[\"predicted_rent\"] = model.predict(aus1[[\"SquareFootage\"]])\n",
    "aus1[\"Residual\"] = aus1[\"MaxRent\"] - aus1[\"predicted_rent\"]\n",
    "mean = aus1[\"Residual\"].mean()\n",
    "std = aus1[\"Residual\"].std()\n",
    "\n",
    "aus1[\"StdResidual\"] = (aus1[\"Residual\"] - mean)/std"
   ]
  },
  {
   "cell_type": "code",
   "execution_count": 133,
   "id": "c9c89cc2",
   "metadata": {},
   "outputs": [
    {
     "data": {
      "text/plain": [
       "Text(0, 0.5, 'Studentized Residuals')"
      ]
     },
     "execution_count": 133,
     "metadata": {},
     "output_type": "execute_result"
    },
    {
     "data": {
      "image/png": "[encoded data removed]",
      "text/plain": [
       "<Figure size 432x288 with 1 Axes>"
      ]
     },
     "metadata": {
      "needs_background": "light"
     },
     "output_type": "display_data"
    }
   ],
   "source": [
    "#plot point with standardized residuals outside of -3,3 to identify potential outliers\n",
    "plt.scatter(aus1['SquareFootage'], aus1['StdResidual'])\n",
    "plt.scatter(aus1[aus1['StdResidual']>3].SquareFootage, aus1[aus1['StdResidual']>3].StdResidual, color='red')\n",
    "plt.scatter(aus1[aus1['StdResidual']<-3].SquareFootage, aus1[aus1['StdResidual']<-3].StdResidual, color='orange')\n",
    "plt.xlabel('Square Footage')\n",
    "plt.ylabel('Studentized Residuals')"
   ]
  },
  {
   "cell_type": "code",
   "execution_count": null,
   "id": "65e0ecbd",
   "metadata": {},
   "outputs": [],
   "source": [
    "\n"
   ]
  }
 ],
 "metadata": {
  "kernelspec": {
   "display_name": "Python 3 (ipykernel)",
   "language": "python",
   "name": "python3"
  },
  "language_info": {
   "codemirror_mode": {
    "name": "ipython",
    "version": 3
   },
   "file_extension": ".py",
   "mimetype": "text/x-python",
   "name": "python",
   "nbconvert_exporter": "python",
   "pygments_lexer": "ipython3",
   "version": "3.9.12"
  }
 },
 "nbformat": 4,
 "nbformat_minor": 5
}
